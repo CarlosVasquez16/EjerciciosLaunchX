{
 "cells": [
  {
   "cell_type": "markdown",
   "metadata": {},
   "source": [
    "## Ejercicio: Uso de funciones en Python\n",
    "crear una función que necesite tres lecturas de combustible y devuelva un informe:"
   ]
  },
  {
   "cell_type": "code",
   "execution_count": 18,
   "metadata": {},
   "outputs": [
    {
     "name": "stdout",
     "output_type": "stream",
     "text": [
      "\n",
      "    Informe de lectura de combustible\n",
      "        --------------------------------------------------------------------------------\n",
      "        Tanque 1: 80\n",
      "        Tanque 2: 70\n",
      "        Tanque 3: 85\n",
      "        Promedio de combustible: 78.33333333333333 \n",
      "    \n"
     ]
    }
   ],
   "source": [
    "def informe_lectura_combustible(tanque1, tanque2, tanque3):\n",
    "    average = (tanque1 + tanque2 + tanque3)/3\n",
    "    reporte = \"\"\"\n",
    "    Informe de lectura de combustible\n",
    "        {0}\n",
    "        Tanque 1: {1}\n",
    "        Tanque 2: {2}\n",
    "        Tanque 3: {3}\n",
    "        Promedio de combustible: {4} \n",
    "    \"\"\".format(\"-\"*80, tanque1, tanque2, tanque3, average)\n",
    "    return reporte\n",
    "\n",
    "print(informe_lectura_combustible(80, 70, 85))"
   ]
  },
  {
   "cell_type": "markdown",
   "metadata": {},
   "source": [
    "Vamos a hacer que el promedio se calcule en una función independiente"
   ]
  },
  {
   "cell_type": "code",
   "execution_count": 19,
   "metadata": {},
   "outputs": [],
   "source": [
    "def average(values):\n",
    "    return sum(values)/len(values)"
   ]
  },
  {
   "cell_type": "markdown",
   "metadata": {},
   "source": [
    "Modificamos la primera función para utilizar la función average creada"
   ]
  },
  {
   "cell_type": "code",
   "execution_count": 20,
   "metadata": {},
   "outputs": [
    {
     "name": "stdout",
     "output_type": "stream",
     "text": [
      "\n",
      "    Informe de lectura de combustible\n",
      "        --------------------------------------------------------------------------------\n",
      "        Tanque 1: 88\n",
      "        Tanque 2: 76\n",
      "        Tanque 3: 70\n",
      "        Promedio de combustible: 78.0 \n",
      "    \n"
     ]
    }
   ],
   "source": [
    "def informe_lectura_combustible(tanque1, tanque2, tanque3):\n",
    "    total = average([tanque1, tanque2, tanque3])\n",
    "    reporte = \"\"\"\n",
    "    Informe de lectura de combustible\n",
    "        {0}\n",
    "        Tanque 1: {1}\n",
    "        Tanque 2: {2}\n",
    "        Tanque 3: {3}\n",
    "        Promedio de combustible: {4} \n",
    "    \"\"\".format(\"-\"*80, tanque1, tanque2, tanque3, total)\n",
    "    return reporte\n",
    "\n",
    "print(informe_lectura_combustible(88, 76, 70))"
   ]
  },
  {
   "cell_type": "markdown",
   "metadata": {},
   "source": [
    "## Ejercicio 2 - Trabajo con argumentos de palabra clave\n",
    "Creación de un reporte preciso de la misión"
   ]
  },
  {
   "cell_type": "code",
   "execution_count": 22,
   "metadata": {},
   "outputs": [
    {
     "name": "stdout",
     "output_type": "stream",
     "text": [
      "\n",
      "    Informe de la misión:\n",
      "        --------------------------------------------------------------------------------\n",
      "        'Destino' : Moon,\n",
      "        'Tiempo total de vuelo' : 65,\n",
      "        'Total del tanque' : 500000\n",
      "\n",
      "    \n"
     ]
    }
   ],
   "source": [
    "def informe_mision(Hora_prelanzamiento, Tiempo_vuelo, Destion, Tanque_externo, Tanque_interno):\n",
    "\n",
    "    reporte = \"\"\"\n",
    "    Informe de la misión:\n",
    "        {}\n",
    "        'Destino' : {},\n",
    "        'Tiempo total de vuelo' : {},\n",
    "        'Total del tanque' : {}\n",
    "\n",
    "    \"\"\".format(\"-\"*80,Destion, Hora_prelanzamiento + Tiempo_vuelo, Tanque_externo + Tanque_interno)\n",
    "    return reporte\n",
    "\n",
    "print(informe_mision(14, 51, \"Moon\", 200000, 300000))"
   ]
  },
  {
   "cell_type": "markdown",
   "metadata": {},
   "source": [
    "Nueva función"
   ]
  },
  {
   "cell_type": "code",
   "execution_count": 29,
   "metadata": {},
   "outputs": [
    {
     "name": "stdout",
     "output_type": "stream",
     "text": [
      "\n",
      "    Informe de la misión:\n",
      "        --------------------------------------------------------------------------------\n",
      "        'Destino' : Moon,\n",
      "        'Tiempo total de vuelo' : 76,\n",
      "        'Total del tanque' : 500000\n",
      "\n",
      "    \tTanque t1, -> tiene disponible: 200000\n",
      "\tTanque t2, -> tiene disponible: 300000\n",
      "\n"
     ]
    }
   ],
   "source": [
    "def informe_mision(Destion, *minutos, **tanques):\n",
    "\n",
    "    reporte = \"\"\"\n",
    "    Informe de la misión:\n",
    "        {}\n",
    "        'Destino' : {},\n",
    "        'Tiempo total de vuelo' : {},\n",
    "        'Total del tanque' : {}\n",
    "\n",
    "    \"\"\".format(\"-\"*80,Destion, sum(minutos), sum(tanques.values()))\n",
    "\n",
    "    for tanque, cantidad in tanques.items():\n",
    "        reporte += \"\\tTanque {}, -> tiene disponible: {}\\n\".format(tanque, cantidad)\n",
    "\n",
    "    return reporte\n",
    "\n",
    "print(informe_mision(\"Moon\", 10, 15, 51, t1 = 200000, t2 = 300000))"
   ]
  }
 ],
 "metadata": {
  "interpreter": {
   "hash": "409e9466594ad2b05b3243a56daf0c2959e53ee512aeeca6e2f0ff8002f26f46"
  },
  "kernelspec": {
   "display_name": "Python 3.10.2 64-bit",
   "language": "python",
   "name": "python3"
  },
  "language_info": {
   "codemirror_mode": {
    "name": "ipython",
    "version": 3
   },
   "file_extension": ".py",
   "mimetype": "text/x-python",
   "name": "python",
   "nbconvert_exporter": "python",
   "pygments_lexer": "ipython3",
   "version": "3.10.2"
  },
  "orig_nbformat": 4
 },
 "nbformat": 4,
 "nbformat_minor": 2
}
