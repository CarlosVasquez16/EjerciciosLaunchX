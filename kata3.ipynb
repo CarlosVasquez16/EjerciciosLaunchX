{
 "cells": [
  {
   "cell_type": "markdown",
   "metadata": {},
   "source": [
    "## Ejercicio con operadores if, else y elif"
   ]
  },
  {
   "cell_type": "markdown",
   "metadata": {},
   "source": [
    "### Ejercicio 1"
   ]
  },
  {
   "cell_type": "code",
   "execution_count": 2,
   "metadata": {},
   "outputs": [
    {
     "name": "stdout",
     "output_type": "stream",
     "text": [
      "¡ADVERTENCIA, se aproxima un asteroide!\n"
     ]
    }
   ],
   "source": [
    "velocidad_asteroide = int(input())\n",
    "if velocidad_asteroide > 25:\n",
    "    print(\"¡ADVERTENCIA, se aproxima un asteroide!\")\n",
    "else:\n",
    "    print(\"Continua normal, no hay peligro\")"
   ]
  },
  {
   "cell_type": "markdown",
   "metadata": {},
   "source": [
    "### Ejercicio 2"
   ]
  },
  {
   "cell_type": "code",
   "execution_count": 3,
   "metadata": {},
   "outputs": [
    {
     "name": "stdout",
     "output_type": "stream",
     "text": [
      "Miren arriba para ver el rayo de luz del asteroide\n"
     ]
    }
   ],
   "source": [
    "asteroide = int(input())\n",
    "if asteroide > 20:\n",
    "    print(\"Miren arriba para ver el rayo de luz del asteroide\")\n",
    "elif asteroide == 20:\n",
    "    print(\"Miren arriba para ver el rayo de luz del asteroide\")\n",
    "else:\n",
    "    print(\"No sucede nada por aquí\")"
   ]
  },
  {
   "cell_type": "markdown",
   "metadata": {},
   "source": [
    "## Ejercicio con operadores and y or"
   ]
  },
  {
   "cell_type": "code",
   "execution_count": 9,
   "metadata": {},
   "outputs": [
    {
     "name": "stdout",
     "output_type": "stream",
     "text": [
      "No sucede nada por aquí\n"
     ]
    }
   ],
   "source": [
    "velocidad_asteroide = int(input(\"velocidad asteroide: \"))\n",
    "tamano_asteroide = int(input(\"asteroide: \"))\n",
    "\n",
    "if velocidad_asteroide > 25 and tamano_asteroide > 25:\n",
    "    print(\"¡ADVERTENCIA, se aproxima un asteroide!\")\n",
    "elif velocidad_asteroide >= 20:\n",
    "    print(\"Miren arriba para ver el rayo de luz del asteroide\")\n",
    "elif tamano_asteroide < 25:\n",
    "    print(\"Se quemará en la admósfera de la tierra\")\n",
    "else:\n",
    "    print('No sucede nada por aquí')"
   ]
  }
 ],
 "metadata": {
  "interpreter": {
   "hash": "409e9466594ad2b05b3243a56daf0c2959e53ee512aeeca6e2f0ff8002f26f46"
  },
  "kernelspec": {
   "display_name": "Python 3.10.2 64-bit",
   "language": "python",
   "name": "python3"
  },
  "language_info": {
   "codemirror_mode": {
    "name": "ipython",
    "version": 3
   },
   "file_extension": ".py",
   "mimetype": "text/x-python",
   "name": "python",
   "nbconvert_exporter": "python",
   "pygments_lexer": "ipython3",
   "version": "3.10.2"
  },
  "orig_nbformat": 4
 },
 "nbformat": 4,
 "nbformat_minor": 2
}
